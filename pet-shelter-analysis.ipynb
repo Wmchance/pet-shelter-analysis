{
 "cells": [
  {
   "cell_type": "markdown",
   "id": "ffbdb81c",
   "metadata": {},
   "source": [
    "# Pet Shelter Analysis \n",
    "* Data from: https://www.kaggle.com/datasets/aaronschlegel/austin-animal-center-shelter-intakes-and-outcomes"
   ]
  },
  {
   "cell_type": "code",
   "execution_count": 20,
   "id": "06fbb87d",
   "metadata": {},
   "outputs": [],
   "source": [
    "import pandas as pd\n",
    "import numpy as np\n",
    "import datetime"
   ]
  },
  {
   "cell_type": "markdown",
   "id": "18f51fec",
   "metadata": {},
   "source": [
    "# Import csv files and check the basic info on each"
   ]
  },
  {
   "cell_type": "code",
   "execution_count": 21,
   "id": "667df689",
   "metadata": {},
   "outputs": [],
   "source": [
    "# https://datascientyst.com/read-analyse-large-csv-file-pandas-dask/\n",
    "intakes = pd.read_csv('/Users/william/Documents/Treehouse/code/Python/Unit-Projects/pet-shelter-analysis/aac_intakes.csv')\n",
    "outcomes = pd.read_csv('/Users/william/Documents/Treehouse/code/Python/Unit-Projects/pet-shelter-analysis/aac_outcomes.csv')\n",
    "intakes_outcomes = pd.read_csv('/Users/william/Documents/Treehouse/code/Python/Unit-Projects/pet-shelter-analysis/aac_intakes_outcomes.csv')\n"
   ]
  },
  {
   "cell_type": "code",
   "execution_count": 22,
   "id": "294a20df",
   "metadata": {
    "scrolled": false
   },
   "outputs": [
    {
     "data": {
      "text/html": [
       "<div>\n",
       "<style scoped>\n",
       "    .dataframe tbody tr th:only-of-type {\n",
       "        vertical-align: middle;\n",
       "    }\n",
       "\n",
       "    .dataframe tbody tr th {\n",
       "        vertical-align: top;\n",
       "    }\n",
       "\n",
       "    .dataframe thead th {\n",
       "        text-align: right;\n",
       "    }\n",
       "</style>\n",
       "<table border=\"1\" class=\"dataframe\">\n",
       "  <thead>\n",
       "    <tr style=\"text-align: right;\">\n",
       "      <th></th>\n",
       "      <th>age_upon_outcome</th>\n",
       "      <th>animal_id_outcome</th>\n",
       "      <th>date_of_birth</th>\n",
       "      <th>outcome_subtype</th>\n",
       "      <th>outcome_type</th>\n",
       "      <th>sex_upon_outcome</th>\n",
       "      <th>age_upon_outcome_(days)</th>\n",
       "      <th>age_upon_outcome_(years)</th>\n",
       "      <th>age_upon_outcome_age_group</th>\n",
       "      <th>outcome_datetime</th>\n",
       "      <th>...</th>\n",
       "      <th>age_upon_intake_age_group</th>\n",
       "      <th>intake_datetime</th>\n",
       "      <th>intake_month</th>\n",
       "      <th>intake_year</th>\n",
       "      <th>intake_monthyear</th>\n",
       "      <th>intake_weekday</th>\n",
       "      <th>intake_hour</th>\n",
       "      <th>intake_number</th>\n",
       "      <th>time_in_shelter</th>\n",
       "      <th>time_in_shelter_days</th>\n",
       "    </tr>\n",
       "  </thead>\n",
       "  <tbody>\n",
       "    <tr>\n",
       "      <th>0</th>\n",
       "      <td>10 years</td>\n",
       "      <td>A006100</td>\n",
       "      <td>2007-07-09 00:00:00</td>\n",
       "      <td>NaN</td>\n",
       "      <td>Return to Owner</td>\n",
       "      <td>Neutered Male</td>\n",
       "      <td>3650</td>\n",
       "      <td>10.0</td>\n",
       "      <td>(7.5, 10.0]</td>\n",
       "      <td>2017-12-07 14:07:00</td>\n",
       "      <td>...</td>\n",
       "      <td>(7.5, 10.0]</td>\n",
       "      <td>2017-12-07 00:00:00</td>\n",
       "      <td>12</td>\n",
       "      <td>2017</td>\n",
       "      <td>2017-12</td>\n",
       "      <td>Thursday</td>\n",
       "      <td>14</td>\n",
       "      <td>1.0</td>\n",
       "      <td>0 days 14:07:00.000000000</td>\n",
       "      <td>0.588194</td>\n",
       "    </tr>\n",
       "    <tr>\n",
       "      <th>1</th>\n",
       "      <td>7 years</td>\n",
       "      <td>A006100</td>\n",
       "      <td>2007-07-09 00:00:00</td>\n",
       "      <td>NaN</td>\n",
       "      <td>Return to Owner</td>\n",
       "      <td>Neutered Male</td>\n",
       "      <td>2555</td>\n",
       "      <td>7.0</td>\n",
       "      <td>(5.0, 7.5]</td>\n",
       "      <td>2014-12-20 16:35:00</td>\n",
       "      <td>...</td>\n",
       "      <td>(5.0, 7.5]</td>\n",
       "      <td>2014-12-19 10:21:00</td>\n",
       "      <td>12</td>\n",
       "      <td>2014</td>\n",
       "      <td>2014-12</td>\n",
       "      <td>Friday</td>\n",
       "      <td>10</td>\n",
       "      <td>2.0</td>\n",
       "      <td>1 days 06:14:00.000000000</td>\n",
       "      <td>1.259722</td>\n",
       "    </tr>\n",
       "    <tr>\n",
       "      <th>2</th>\n",
       "      <td>6 years</td>\n",
       "      <td>A006100</td>\n",
       "      <td>2007-07-09 00:00:00</td>\n",
       "      <td>NaN</td>\n",
       "      <td>Return to Owner</td>\n",
       "      <td>Neutered Male</td>\n",
       "      <td>2190</td>\n",
       "      <td>6.0</td>\n",
       "      <td>(5.0, 7.5]</td>\n",
       "      <td>2014-03-08 17:10:00</td>\n",
       "      <td>...</td>\n",
       "      <td>(5.0, 7.5]</td>\n",
       "      <td>2014-03-07 14:26:00</td>\n",
       "      <td>3</td>\n",
       "      <td>2014</td>\n",
       "      <td>2014-03</td>\n",
       "      <td>Friday</td>\n",
       "      <td>14</td>\n",
       "      <td>3.0</td>\n",
       "      <td>1 days 02:44:00.000000000</td>\n",
       "      <td>1.113889</td>\n",
       "    </tr>\n",
       "    <tr>\n",
       "      <th>3</th>\n",
       "      <td>10 years</td>\n",
       "      <td>A047759</td>\n",
       "      <td>2004-04-02 00:00:00</td>\n",
       "      <td>Partner</td>\n",
       "      <td>Transfer</td>\n",
       "      <td>Neutered Male</td>\n",
       "      <td>3650</td>\n",
       "      <td>10.0</td>\n",
       "      <td>(7.5, 10.0]</td>\n",
       "      <td>2014-04-07 15:12:00</td>\n",
       "      <td>...</td>\n",
       "      <td>(7.5, 10.0]</td>\n",
       "      <td>2014-04-02 15:55:00</td>\n",
       "      <td>4</td>\n",
       "      <td>2014</td>\n",
       "      <td>2014-04</td>\n",
       "      <td>Wednesday</td>\n",
       "      <td>15</td>\n",
       "      <td>1.0</td>\n",
       "      <td>4 days 23:17:00.000000000</td>\n",
       "      <td>4.970139</td>\n",
       "    </tr>\n",
       "    <tr>\n",
       "      <th>4</th>\n",
       "      <td>16 years</td>\n",
       "      <td>A134067</td>\n",
       "      <td>1997-10-16 00:00:00</td>\n",
       "      <td>NaN</td>\n",
       "      <td>Return to Owner</td>\n",
       "      <td>Neutered Male</td>\n",
       "      <td>5840</td>\n",
       "      <td>16.0</td>\n",
       "      <td>(15.0, 17.5]</td>\n",
       "      <td>2013-11-16 11:54:00</td>\n",
       "      <td>...</td>\n",
       "      <td>(15.0, 17.5]</td>\n",
       "      <td>2013-11-16 09:02:00</td>\n",
       "      <td>11</td>\n",
       "      <td>2013</td>\n",
       "      <td>2013-11</td>\n",
       "      <td>Saturday</td>\n",
       "      <td>9</td>\n",
       "      <td>1.0</td>\n",
       "      <td>0 days 02:52:00.000000000</td>\n",
       "      <td>0.119444</td>\n",
       "    </tr>\n",
       "  </tbody>\n",
       "</table>\n",
       "<p>5 rows × 41 columns</p>\n",
       "</div>"
      ],
      "text/plain": [
       "  age_upon_outcome animal_id_outcome        date_of_birth outcome_subtype  \\\n",
       "0         10 years           A006100  2007-07-09 00:00:00             NaN   \n",
       "1          7 years           A006100  2007-07-09 00:00:00             NaN   \n",
       "2          6 years           A006100  2007-07-09 00:00:00             NaN   \n",
       "3         10 years           A047759  2004-04-02 00:00:00         Partner   \n",
       "4         16 years           A134067  1997-10-16 00:00:00             NaN   \n",
       "\n",
       "      outcome_type sex_upon_outcome  age_upon_outcome_(days)  \\\n",
       "0  Return to Owner    Neutered Male                     3650   \n",
       "1  Return to Owner    Neutered Male                     2555   \n",
       "2  Return to Owner    Neutered Male                     2190   \n",
       "3         Transfer    Neutered Male                     3650   \n",
       "4  Return to Owner    Neutered Male                     5840   \n",
       "\n",
       "   age_upon_outcome_(years) age_upon_outcome_age_group     outcome_datetime  \\\n",
       "0                      10.0                (7.5, 10.0]  2017-12-07 14:07:00   \n",
       "1                       7.0                 (5.0, 7.5]  2014-12-20 16:35:00   \n",
       "2                       6.0                 (5.0, 7.5]  2014-03-08 17:10:00   \n",
       "3                      10.0                (7.5, 10.0]  2014-04-07 15:12:00   \n",
       "4                      16.0               (15.0, 17.5]  2013-11-16 11:54:00   \n",
       "\n",
       "   ...  age_upon_intake_age_group      intake_datetime intake_month  \\\n",
       "0  ...                (7.5, 10.0]  2017-12-07 00:00:00           12   \n",
       "1  ...                 (5.0, 7.5]  2014-12-19 10:21:00           12   \n",
       "2  ...                 (5.0, 7.5]  2014-03-07 14:26:00            3   \n",
       "3  ...                (7.5, 10.0]  2014-04-02 15:55:00            4   \n",
       "4  ...               (15.0, 17.5]  2013-11-16 09:02:00           11   \n",
       "\n",
       "  intake_year  intake_monthyear  intake_weekday  intake_hour  intake_number  \\\n",
       "0        2017           2017-12        Thursday           14            1.0   \n",
       "1        2014           2014-12          Friday           10            2.0   \n",
       "2        2014           2014-03          Friday           14            3.0   \n",
       "3        2014           2014-04       Wednesday           15            1.0   \n",
       "4        2013           2013-11        Saturday            9            1.0   \n",
       "\n",
       "             time_in_shelter time_in_shelter_days  \n",
       "0  0 days 14:07:00.000000000             0.588194  \n",
       "1  1 days 06:14:00.000000000             1.259722  \n",
       "2  1 days 02:44:00.000000000             1.113889  \n",
       "3  4 days 23:17:00.000000000             4.970139  \n",
       "4  0 days 02:52:00.000000000             0.119444  \n",
       "\n",
       "[5 rows x 41 columns]"
      ]
     },
     "execution_count": 22,
     "metadata": {},
     "output_type": "execute_result"
    }
   ],
   "source": [
    "intakes_outcomes.head()"
   ]
  },
  {
   "cell_type": "code",
   "execution_count": 23,
   "id": "874f40e3",
   "metadata": {},
   "outputs": [
    {
     "name": "stdout",
     "output_type": "stream",
     "text": [
      "<class 'pandas.core.frame.DataFrame'>\n",
      "RangeIndex: 80681 entries, 0 to 80680\n",
      "Data columns (total 12 columns):\n",
      " #   Column            Non-Null Count  Dtype \n",
      "---  ------            --------------  ----- \n",
      " 0   age_upon_outcome  80673 non-null  object\n",
      " 1   animal_id         80681 non-null  object\n",
      " 2   animal_type       80681 non-null  object\n",
      " 3   breed             80681 non-null  object\n",
      " 4   color             80681 non-null  object\n",
      " 5   date_of_birth     80681 non-null  object\n",
      " 6   datetime          80681 non-null  object\n",
      " 7   monthyear         80681 non-null  object\n",
      " 8   name              56116 non-null  object\n",
      " 9   outcome_subtype   36893 non-null  object\n",
      " 10  outcome_type      80667 non-null  object\n",
      " 11  sex_upon_outcome  80679 non-null  object\n",
      "dtypes: object(12)\n",
      "memory usage: 7.4+ MB\n"
     ]
    }
   ],
   "source": [
    "outcomes.info()"
   ]
  },
  {
   "cell_type": "markdown",
   "id": "b9adab79",
   "metadata": {},
   "source": [
    "# 1. Is there an area where more pets are found?\n",
    "Find the top 5 places where animals are found so the shelter can coordinate with local volunteers and animal control to monitor these areas.\n",
    "\n",
    "Hint: Try to group the found locations together."
   ]
  },
  {
   "cell_type": "code",
   "execution_count": 24,
   "id": "855faba5",
   "metadata": {
    "scrolled": false
   },
   "outputs": [
    {
     "name": "stdout",
     "output_type": "stream",
     "text": [
      "found_location\n",
      "Austin (TX)                              14443\n",
      "Outside Jurisdiction                       948\n",
      "Travis (TX)                                921\n",
      "7201 Levander Loop in Austin (TX)          517\n",
      "Del Valle (TX)                             411\n",
      "Pflugerville (TX)                          372\n",
      "Manor (TX)                                 280\n",
      "4434 Frontier Trl in Austin (TX)           163\n",
      "124 W Anderson Ln in Austin (TX)           153\n",
      "Leander (TX)                               113\n",
      "1156 W Cesar Chavez in Austin (TX)          98\n",
      "12034 Research Blvd in Austin (TX)          98\n",
      "12034 Research in Austin (TX)               96\n",
      "1834 Ferguson in Austin (TX)                90\n",
      "1156 W Cesar Chavez St in Austin (TX)       74\n",
      "dtype: int64\n"
     ]
    }
   ],
   "source": [
    "# https://datascientyst.com/get-top-10-highest-lowest-values-pandas/\n",
    "grouped_by_found_location = intakes.groupby('found_location')\n",
    "top_fifteen_locations = grouped_by_found_location.size().nlargest(n=15)\n",
    "print(top_fifteen_locations)"
   ]
  },
  {
   "cell_type": "markdown",
   "id": "c9272d2a",
   "metadata": {},
   "source": [
    "### The top 5 places in Austin where animals were found were 7201 Levander Loop, 4434 Frontier Trl, 124 W Anderson Ln, 1156 W Cesar Chavez, and 12034 Research Blvd. \n",
    "\n",
    "This information was found by grouping the intakes data by 'found_location' and then using nlargest to get the top fifteen locations. Locations outside of Austin or 'other' categories, such as 'Outside Jurisdiction', were removed so that workers could focus on specific areas. "
   ]
  },
  {
   "cell_type": "markdown",
   "id": "a4645b8f",
   "metadata": {},
   "source": [
    "# 2. What is the average number of pets found in a month in the year 2015? Are there months where there is a higher number of animals found?\n",
    "Knowing the number of pets the shelter might see in a month can help them gather enough resources and donations to care for the animals they receive."
   ]
  },
  {
   "cell_type": "code",
   "execution_count": 25,
   "id": "62c73097",
   "metadata": {
    "scrolled": true
   },
   "outputs": [],
   "source": [
    "# https://www.geeksforgeeks.org/convert-the-column-type-from-string-to-datetime-format-in-pandas-dataframe/\n",
    "intakes['datetime'] = pd.to_datetime(intakes['datetime'])\n",
    "\n",
    "# https://datascientyst.com/convert-month-number-to-month-name-pandas-dataframe/\n",
    "intakes['month_found'] = intakes['datetime'].dt.month_name()\n",
    "intakes['year_found'] = intakes['datetime'].dt.year\n",
    "\n",
    "#The below also work but are longer. Maybe because 'datetime' is already imported, 'dt' can be used\n",
    "#intakes['month_found'] = pd.DatetimeIndex(intakes['datetime']).month_name()\n",
    "#intakes['year_found'] = pd.DatetimeIndex(intakes['datetime']).year\n"
   ]
  },
  {
   "cell_type": "code",
   "execution_count": 26,
   "id": "5f23409d",
   "metadata": {},
   "outputs": [
    {
     "name": "stdout",
     "output_type": "stream",
     "text": [
      "In 2015, the average number of pets found per month was approximately 1559\n"
     ]
    }
   ],
   "source": [
    "average_pets_found_in_2015 = round(intakes[intakes['year_found'] == 2015].groupby('month_found').size().mean())\n",
    "print(f'In 2015, the average number of pets found per month was approximately {average_pets_found_in_2015}')"
   ]
  },
  {
   "cell_type": "code",
   "execution_count": 27,
   "id": "4bbd250c",
   "metadata": {},
   "outputs": [
    {
     "name": "stdout",
     "output_type": "stream",
     "text": [
      "month_found\n",
      "June       2189\n",
      "May        2094\n",
      "October    1740\n",
      "dtype: int64\n",
      "The months with the highest number of animals found were June, May, and October\n"
     ]
    }
   ],
   "source": [
    "group_by_month_found = intakes[intakes['year_found'] == 2015].groupby('month_found')\n",
    "highest_months = group_by_month_found.size().nlargest(n=3)\n",
    "\n",
    "print(highest_months)\n",
    "print(f'The months with the highest number of animals found were {highest_months.index[0]}, {highest_months.index[1]}, and {highest_months.index[2]}')\n",
    "\n"
   ]
  },
  {
   "cell_type": "markdown",
   "id": "2aad3a29",
   "metadata": {},
   "source": [
    "### In 2015, the average number of pets found per month was approximately 1559\n",
    "\n",
    "### The months with the highest number of animals found were June, May, and October\n",
    "\n",
    "To start, new columns for month and year found were created by extracting the information from the datetime column and saving them as integers in new columns. \n",
    "To get the average found in 2015, the intakes data was filtered for entries from 2015, that was grouped by the month found, 'size()' was used to get the number found each month, and 'mean()' was used to get the average of the generated column.\n",
    "To get the months with the highest number of animals found, the intakes data was once again filtered for entries from 2015, grouped by the month found, and 'size()' was used to get the number found each month. nlargest(n=3) was then used to find the three columns with the largest entries."
   ]
  },
  {
   "cell_type": "markdown",
   "id": "74cd8c50",
   "metadata": {},
   "source": [
    "# 3. What is the ratio of incoming pets vs. adopted pets?\n",
    "This key metric helps the shelter know how they are doing."
   ]
  },
  {
   "cell_type": "code",
   "execution_count": 28,
   "id": "b2a43bfa",
   "metadata": {},
   "outputs": [
    {
     "name": "stdout",
     "output_type": "stream",
     "text": [
      "The ratio of incoming pets to adopted pets is approximately: 7:3\n",
      "So about 42.17% of pets are adopted.\n"
     ]
    }
   ],
   "source": [
    "# https://docs.python.org/3/library/fractions.html\n",
    "# https://bobbyhadz.com/blog/python-attributeerror-float-object-has-no-attribute-round\n",
    "from fractions import Fraction\n",
    "total_incoming_pets = len(intakes_outcomes)\n",
    "total_adopted_pets = len(intakes_outcomes[intakes_outcomes['outcome_type'] == 'Adoption'])\n",
    "incoming_vs_adopted_fraction = Fraction(total_adopted_pets/total_incoming_pets).limit_denominator(10)\n",
    "incoming_vs_adopted_percent = round(((total_adopted_pets/total_incoming_pets)*100), 2)\n",
    "print(f'The ratio of incoming pets to adopted pets is approximately: {incoming_vs_adopted_fraction.denominator}:{incoming_vs_adopted_fraction.numerator}\\nSo about {incoming_vs_adopted_percent}% of pets are adopted.')\n",
    "\n"
   ]
  },
  {
   "cell_type": "markdown",
   "id": "309a982f",
   "metadata": {},
   "source": [
    "### The ratio of incoming pets to adopted pets is approximately: 7:3\n",
    "### So about 42.17% of pets are adopted.\n",
    "\n",
    "The lenth of the incomes_outcomes file was used to determine the total number of pets taken in, and the total number of pets adopted was found by filtering the file by 'outcome_type' that equaled 'Adoption'. By using the Fractions module, the numerator and denominator of the resultind fraction could be used to show the ratio."
   ]
  },
  {
   "cell_type": "markdown",
   "id": "320362ae",
   "metadata": {},
   "source": [
    "# 4. What is the distribution of the types of animals in the shelter?\n",
    "Find the count of each type of animal in the shelter."
   ]
  },
  {
   "cell_type": "code",
   "execution_count": 29,
   "id": "ed66d9c2",
   "metadata": {},
   "outputs": [
    {
     "name": "stdout",
     "output_type": "stream",
     "text": [
      "animal_type\n",
      "Bird           342\n",
      "Cat          29659\n",
      "Dog          45743\n",
      "Livestock        9\n",
      "Other         4434\n",
      "dtype: int64\n",
      "AxesSubplot(0.125,0.11;0.775x0.77)\n"
     ]
    },
    {
     "data": {
      "image/png": "[encoded data removed]",
      "text/plain": [
       "<Figure size 640x480 with 1 Axes>"
      ]
     },
     "metadata": {},
     "output_type": "display_data"
    }
   ],
   "source": [
    "import matplotlib.pyplot as plt\n",
    "count_by_animal = intakes.groupby('animal_type').size()\n",
    "count_by_animal_graph = intakes.groupby('animal_type').size().plot.bar()\n",
    "print(count_by_animal)\n",
    "print(count_by_animal_graph)"
   ]
  },
  {
   "cell_type": "markdown",
   "id": "870bec37",
   "metadata": {},
   "source": [
    "### The number of animals in the shelter are as follows: \n",
    "* Dog: 45,743\n",
    "* Cat: 29,659\n",
    "* Bird: 342\n",
    "* Livestock: 9\n",
    "* Other: 4434\n",
    "\n",
    "This information was determined by grouping the intakes by 'animal_type' and then getting the number for each group by using 'size()'"
   ]
  },
  {
   "cell_type": "markdown",
   "id": "2c6ac64f",
   "metadata": {},
   "source": [
    "# 5. What are the adoption rates for specific breeds?\n",
    "Find the top 5 dog breeds in the shelter (based on count) and then find the adoption percentage of each breed."
   ]
  },
  {
   "cell_type": "code",
   "execution_count": 30,
   "id": "9f8ecf2e",
   "metadata": {
    "scrolled": true
   },
   "outputs": [
    {
     "name": "stdout",
     "output_type": "stream",
     "text": [
      "The adoption rate for Pit Bull Mix is 37%\n",
      "The adoption rate for Chihuahua Shorthair Mix is 47%\n",
      "The adoption rate for Labrador Retriever Mix is 50%\n",
      "The adoption rate for German Shepherd Mix is 48%\n",
      "The adoption rate for Australian Cattle Dog Mix is 56%\n"
     ]
    }
   ],
   "source": [
    "# https://stackoverflow.com/questions/18327624/find-elements-index-in-pandas-series\n",
    "top_dog_breeds_in_shelter_series = outcomes[outcomes['animal_type'] == 'Dog'].groupby('breed').size().nlargest(n=5)\n",
    "\n",
    "for label, value in top_dog_breeds_in_shelter_series.items():\n",
    "    number_adopted = len(outcomes[(outcomes['breed'] == label) & (outcomes['outcome_type'] == 'Adoption')])\n",
    "    print(f'The adoption rate for {label} is {round((number_adopted/value)*100)}%')\n"
   ]
  },
  {
   "cell_type": "markdown",
   "id": "a8697af3",
   "metadata": {},
   "source": [
    "### The adoption rates for specific dog breeds is as follows:\n",
    "* The adoption rate for Pit Bull Mix is 37%\n",
    "* The adoption rate for Chihuahua Shorthair Mix is 47%\n",
    "* The adoption rate for Labrador Retriever Mix is 50%\n",
    "* The adoption rate for German Shepherd Mix is 48%\n",
    "* The adoption rate for Australian Cattle Dog Mix is 56%\n",
    "\n",
    "This information was determined by first finding the top 5 dog breeds in the shelter by filtering for dogs, grouping by breed, using 'size()' to get the number for each breed, and finally using 'nlargest(n=5)' to get the top 5. After this, the resulting dog breeds were used to filter the outcomes data and find the number of each breed that had been adopted. With these two pieces of information, the adoption percentage was determined."
   ]
  },
  {
   "cell_type": "markdown",
   "id": "7e4e0cb3",
   "metadata": {},
   "source": [
    "# 6. What are the adoption rates for different colorings?\n",
    "Find the top 5 colorings in the shelter (based on count) and then find the adoption percentage of each color."
   ]
  },
  {
   "cell_type": "code",
   "execution_count": 31,
   "id": "dbaf5172",
   "metadata": {
    "scrolled": true
   },
   "outputs": [
    {
     "name": "stdout",
     "output_type": "stream",
     "text": [
      "The adoption rate for Black/White pets is 45%\n",
      "The adoption rate for Black pets is 41%\n",
      "The adoption rate for Brown Tabby pets is 42%\n",
      "The adoption rate for Brown pets is 22%\n",
      "The adoption rate for White pets is 38%\n"
     ]
    }
   ],
   "source": [
    "top_colorings_in_shelter_series = outcomes.groupby('color').size().nlargest(n=5)\n",
    "\n",
    "for label, value in top_colorings_in_shelter_series.items():\n",
    "    number_adopted = len(outcomes[(outcomes['color'] == label) & (outcomes['outcome_type'] == 'Adoption')])\n",
    "    print(f'The adoption rate for {label} pets is {round((number_adopted/value)*100)}%')\n"
   ]
  },
  {
   "cell_type": "markdown",
   "id": "1977ef99",
   "metadata": {},
   "source": [
    "### The adoption rates for different colorings is as follows:\n",
    "* The adoption rate for Black/White pets is 45%\n",
    "* The adoption rate for Black pets is 41%\n",
    "* The adoption rate for Brown Tabby pets is 42%\n",
    "* The adoption rate for Brown pets is 22%\n",
    "* The adoption rate for White pets is 38%\n",
    "\n",
    "This information was determined by first finding the top 5 colorings in the shelter by grouping by color, using 'size()' to get the number for each breed, and finally using 'nlargest(n=5)' to get the top 5. After this, the resulting colorings were used to filter the outcomes data and find the number of each coloring that had been adopted. With these two pieces of information, the adoption percentage was determined."
   ]
  },
  {
   "cell_type": "markdown",
   "id": "df121c76",
   "metadata": {},
   "source": [
    "# 7. About how many animals are spayed/neutered each month?\n",
    "This will help the shelter allocate resources and staff. Assume that all intact males and females will be spayed/neutered."
   ]
  },
  {
   "cell_type": "code",
   "execution_count": 32,
   "id": "80c28b0a",
   "metadata": {},
   "outputs": [
    {
     "name": "stdout",
     "output_type": "stream",
     "text": [
      "About 933 animals are spayed/neutered each month\n"
     ]
    }
   ],
   "source": [
    "total_intact_pets_by_year = intakes[(intakes['sex_upon_intake'] == 'Intact Male') | (intakes['sex_upon_intake'] == 'Intact Female')].groupby('year_found').size()\n",
    "total_intact_pets_by_year_cleaned = total_intact_pets_by_year.drop(labels = [2013, 2018])\n",
    "avg_per_month = round((total_intact_pets_by_year_cleaned.sum())/((len(total_intact_pets_by_year_cleaned))*12))\n",
    "\n",
    "print(f'About {avg_per_month} animals are spayed/neutered each month')\n"
   ]
  },
  {
   "cell_type": "markdown",
   "id": "389153ff",
   "metadata": {},
   "source": [
    "### About 933 animals are spayed/neutered each month\n",
    "\n",
    "To determine this information, the intakes file was filtered based on 'sex_upon_intake' being either 'Intact Male' or 'Intact Female', grouping by the year found, and then using 'size()' to get the number of animals spayed/neutered each year. The first and last years were not complete years, so they were dropped. Finally, the number of remaining intact animals was combined and then divided by the total number of months over which they occurred. "
   ]
  },
  {
   "cell_type": "markdown",
   "id": "0ae72d67",
   "metadata": {},
   "source": [
    "# EE-1. How many animals in the shelter are repeats? Which animal was returned to the shelter the most?\n",
    "This means the animal has been brought in more than once."
   ]
  },
  {
   "cell_type": "code",
   "execution_count": 33,
   "id": "af3f2aa0",
   "metadata": {},
   "outputs": [
    {
     "name": "stdout",
     "output_type": "stream",
     "text": [
      "6154 animals have been brought in more than once\n"
     ]
    }
   ],
   "source": [
    "intakes_by_id = intakes.groupby('animal_id').size()\n",
    "number_of_repeats = intakes_by_id[intakes_by_id > 1].count()\n",
    "print(f'{number_of_repeats} animals have been brought in more than once')"
   ]
  },
  {
   "cell_type": "code",
   "execution_count": 34,
   "id": "2ee410c1",
   "metadata": {},
   "outputs": [
    {
     "name": "stdout",
     "output_type": "stream",
     "text": [
      "With 13 visits, Lil Bit, a Rat Terrier Mix with the id of A721033, has visited the shelter the most.\n"
     ]
    }
   ],
   "source": [
    "most_repeat_visits = intakes_by_id.nlargest(n=1)\n",
    "\n",
    "#https://stackoverflow.com/questions/24273130/get-first-element-of-series-without-knowing-the-index\n",
    "name_of_pet_with_most_repeat_visits = intakes[intakes['animal_id'] == most_repeat_visits.index[0]]['name'].iloc[0]\n",
    "pet_with_most_repeat_visits_type = intakes[intakes['animal_id'] == most_repeat_visits.index[0]]['breed'].iloc[0]\n",
    "number_of_visits = intakes[intakes['animal_id'] == most_repeat_visits.index[0]]['name'].count()\n",
    "print(f'With {number_of_visits} visits, {name_of_pet_with_most_repeat_visits}, a {pet_with_most_repeat_visits_type} with the id of {most_repeat_visits.index[0]}, has visited the shelter the most.')\n",
    "\n"
   ]
  },
  {
   "cell_type": "markdown",
   "id": "f4436f0f",
   "metadata": {},
   "source": [
    "### 6154 animals have been brought in more than once\n",
    "### With 13 visits, Lil Bit, a Rat Terrier Mix with the id of A721033, has visited the shelter the most.\n",
    "\n",
    "To get the total number of repeat animals, the intakes file was grouped by 'animal_id' and 'size()' was used to set the number of time that id was present. Finally, a count was taken of each id that showed up more than once by filtering for ids with a size greater than 1 and using 'count()' to determine the final number of repeats.\n",
    "\n",
    "To get the animal with the most repeat visits, nlargest(n=1) was used with the previously generated data to find the column with the largest number repeat vists. The animal_id for this animal was then used to select futher information, such as the animals name and breed. "
   ]
  },
  {
   "cell_type": "markdown",
   "id": "bf933b28",
   "metadata": {},
   "source": [
    "# EE-2. What are the adoption rates for the following age groups?\n",
    "* baby: 4 months and less\n",
    "* young: 5 months - 2 years\n",
    "* adult: 3 years - 10 years\n",
    "* senior: 11+"
   ]
  },
  {
   "cell_type": "code",
   "execution_count": 35,
   "id": "dc6aa26e",
   "metadata": {
    "scrolled": true
   },
   "outputs": [
    {
     "name": "stdout",
     "output_type": "stream",
     "text": [
      "The adoption rate for the \"baby\" age group is 51%\n",
      "The adoption rate for the \"young\" age group is 40%\n",
      "The adoption rate for the \"adult\" age group is 32%\n",
      "The adoption rate for the \"senior\" age group is 19%\n"
     ]
    }
   ],
   "source": [
    "age_at_outcome_total = intakes_outcomes.groupby('age_upon_outcome_(days)').size()\n",
    "age_at_outcome_adopted = intakes_outcomes[intakes_outcomes['outcome_type'] == 'Adoption'].groupby('age_upon_outcome_(days)').size()\n",
    "#print(age_at_outcome_total.sum())\n",
    "#print(age_at_outcome_adopted)\n",
    "\n",
    "total_baby = age_at_outcome_total[age_at_outcome_total.index < 152].sum()\n",
    "total_young = age_at_outcome_total[(age_at_outcome_total.index >= 152) & (age_at_outcome_total.index < 1096)].sum()\n",
    "total_adult = age_at_outcome_total[(age_at_outcome_total.index >= 1096) & (age_at_outcome_total.index < 4018)].sum()\n",
    "total_senior = age_at_outcome_total[age_at_outcome_total.index >= 4018].sum()\n",
    "\n",
    "adopted_baby = age_at_outcome_adopted[age_at_outcome_adopted.index < 152].sum()\n",
    "adopted_young = age_at_outcome_adopted[(age_at_outcome_adopted.index >= 152) & (age_at_outcome_adopted.index < 1096)].sum()\n",
    "adopted_adult = age_at_outcome_adopted[(age_at_outcome_adopted.index >= 1096) & (age_at_outcome_adopted.index < 4018)].sum()\n",
    "adopted_senior = age_at_outcome_adopted[age_at_outcome_adopted.index >= 4018].sum()\n",
    "\n",
    "baby_adoption_rate = round((adopted_baby/total_baby)*100)\n",
    "young_adoption_rate = round((adopted_young/total_young)*100)\n",
    "adult_adoption_rate = round((adopted_adult/total_adult)*100)\n",
    "senior_adoption_rate = round((adopted_senior/total_senior)*100)\n",
    "\n",
    "print(f'The adoption rate for the \"baby\" age group is {baby_adoption_rate}%')\n",
    "print(f'The adoption rate for the \"young\" age group is {young_adoption_rate}%')\n",
    "print(f'The adoption rate for the \"adult\" age group is {adult_adoption_rate}%')\n",
    "print(f'The adoption rate for the \"senior\" age group is {senior_adoption_rate}%')\n"
   ]
  },
  {
   "cell_type": "markdown",
   "id": "d5c5f081",
   "metadata": {},
   "source": [
    "### The adoption rates for the given age groups are as follows:\n",
    "* The adoption rate for the \"baby\" age group is 51%\n",
    "* The adoption rate for the \"young\" age group is 40%\n",
    "* The adoption rate for the \"adult\" age group is 32%\n",
    "* The adoption rate for the \"senior\" age group is 19%\n",
    "\n",
    "First numbers for total outcomes and total adoptions were set by using 'size()' on data set formed from grouping by age_upon_outcome_(days) and age_upon_outcome_(days) after filtering by 'outcome_type'] == 'Adoption'. With this, numbers for all outcomes and adopted were set for each age group by using conditional filtering of the previously generated totals. By dividing the total by the corresponding adopted number, the adoption rate per age group was generated.  "
   ]
  },
  {
   "cell_type": "markdown",
   "id": "15c698ec",
   "metadata": {},
   "source": [
    "# EE-3. If spay/neuter for a dog costs 100 dollars and a spay/neuter for a cat costs 50 dollars, how much did the shelter spend in 2015 on these procedures?"
   ]
  },
  {
   "cell_type": "code",
   "execution_count": 36,
   "id": "9921a4c6",
   "metadata": {},
   "outputs": [
    {
     "name": "stdout",
     "output_type": "stream",
     "text": [
      "In 2015, the shelter spent a total of $863250 for these procedures. $610000 for dogs and $253250 for cats\n"
     ]
    }
   ],
   "source": [
    "intact_dogs_in_2015 = intakes[((intakes['animal_type'] == 'Dog') & (intakes['year_found'] == 2015)) & ((intakes['sex_upon_intake'] == 'Intact Male') | (intakes['sex_upon_intake'] == 'Intact Female'))].groupby('year_found').size()\n",
    "intact_cats_in_2015 = intakes[((intakes['animal_type'] == 'Cat') & (intakes['year_found'] == 2015)) & ((intakes['sex_upon_intake'] == 'Intact Male') | (intakes['sex_upon_intake'] == 'Intact Female'))].groupby('year_found').size()\n",
    "cost_per_dog = 100\n",
    "cost_per_cat = 50\n",
    "cost_for_all_dogs_2015 = intact_dogs_in_2015.iloc[0]*cost_per_dog\n",
    "cost_for_all_cats_2015 = intact_cats_in_2015.iloc[0]*cost_per_cat\n",
    "total_costs_2015 = cost_for_all_dogs_2015 + cost_for_all_cats_2015\n",
    "\n",
    "print(f'In 2015, the shelter spent a total of ${total_costs_2015} for these procedures. ${cost_for_all_dogs_2015} for dogs and ${cost_for_all_cats_2015} for cats')\n",
    "\n"
   ]
  },
  {
   "cell_type": "markdown",
   "id": "f45b9c7a",
   "metadata": {},
   "source": [
    "### In 2015, the shelter spent a total of 863,250 dollars for these procedures. 610,000 for dogs and 253,250 for cats.\n",
    "\n",
    "To get the total cost, first, the number of intact dogs and cats was found by filtering by animal type, year found, and sex upon intake. These two totals were multiplied by the cost for the procedure for their respective animals. By adding these two costs together, a final cost was determined. "
   ]
  }
 ],
 "metadata": {
  "kernelspec": {
   "display_name": "Python 3 (ipykernel)",
   "language": "python",
   "name": "python3"
  },
  "language_info": {
   "codemirror_mode": {
    "name": "ipython",
    "version": 3
   },
   "file_extension": ".py",
   "mimetype": "text/x-python",
   "name": "python",
   "nbconvert_exporter": "python",
   "pygments_lexer": "ipython3",
   "version": "3.10.9"
  }
 },
 "nbformat": 4,
 "nbformat_minor": 5
}
